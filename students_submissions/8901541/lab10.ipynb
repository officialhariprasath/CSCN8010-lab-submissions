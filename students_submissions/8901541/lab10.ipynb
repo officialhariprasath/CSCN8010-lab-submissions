{
 "cells": [
  {
   "cell_type": "markdown",
   "metadata": {},
   "source": [
    "**LAB_10 - Fine-Tune VGG16 for Bird Classification**<br>\n",
    "**Name:** Hari Prasath Jaikrishnan<br>\n",
    "**StudenID:** 8901541"
   ]
  },
  {
   "cell_type": "code",
   "execution_count": 17,
   "metadata": {},
   "outputs": [],
   "source": [
    "import numpy as np\n",
    "import matplotlib.pyplot as plt\n",
    "from sklearn.metrics import classification_report, confusion_matrix, precision_recall_curve, auc\n",
    "import tensorflow as tf\n",
    "from tensorflow.keras.utils import to_categorical\n",
    "from sklearn.preprocessing import label_binarize\n",
    "from tensorflow import keras\n",
    "from tensorflow.keras import layers\n",
    "from tensorflow.keras.utils import image_dataset_from_directory\n",
    "from tensorflow.keras.applications import VGG16\n",
    "from tensorflow.keras.models import Model\n",
    "from tensorflow.keras.layers import Dense, GlobalAveragePooling2D, Flatten\n",
    "from tensorflow.keras.preprocessing.image import ImageDataGenerator\n",
    "from tensorflow.keras.optimizers import Adam\n",
    "from tensorflow.keras.models import Sequential\n",
    "import pathlib\n",
    "import matplotlib.pyplot as plt\n",
    "import os\n",
    "import shutil\n",
    "from collections import Counter"
   ]
  },
  {
   "cell_type": "code",
   "execution_count": 18,
   "metadata": {},
   "outputs": [
    {
     "name": "stdout",
     "output_type": "stream",
     "text": [
      "Top 3 Classes: ['RUFOUS TREPE', 'HOUSE FINCH', 'D-ARNAUDS BARBET']\n"
     ]
    }
   ],
   "source": [
    "# Obtain the Data\n",
    "data_dir = '../../../CSCN8010-lab-submissions/data/lab10/'\n",
    "train_dir = os.path.join(data_dir, 'train')\n",
    "\n",
    "# Identify Top 3 Classes\n",
    "def count_images_per_class(directory):\n",
    "    class_counts = Counter()\n",
    "    for class_name in os.listdir(directory):\n",
    "        class_path = os.path.join(directory, class_name)\n",
    "        if os.path.isdir(class_path):\n",
    "            num_images = len(os.listdir(class_path))\n",
    "            class_counts[class_name] = num_images\n",
    "    return class_counts\n",
    "\n",
    "class_counts = count_images_per_class(train_dir)\n",
    "top_3_classes = sorted(class_counts, key=class_counts.get, reverse=True)[:3]\n",
    "\n",
    "print(\"Top 3 Classes:\", top_3_classes)"
   ]
  },
  {
   "cell_type": "code",
   "execution_count": 19,
   "metadata": {},
   "outputs": [],
   "source": [
    "# Data Augmentation\n",
    "batch_size = 32\n",
    "input_size = (224, 224)\n",
    "\n",
    "train_datagen = ImageDataGenerator(\n",
    "    rescale=1./255,\n",
    "    rotation_range=20,\n",
    "    width_shift_range=0.2,\n",
    "    height_shift_range=0.2,\n",
    "    shear_range=0.2,\n",
    "    zoom_range=0.2,\n",
    "    horizontal_flip=True,\n",
    "    fill_mode='nearest'\n",
    ")\n",
    "\n",
    "validation_datagen = ImageDataGenerator(rescale=1./255)"
   ]
  },
  {
   "cell_type": "code",
   "execution_count": 20,
   "metadata": {},
   "outputs": [
    {
     "name": "stdout",
     "output_type": "stream",
     "text": [
      "Found 744 images belonging to 3 classes.\n",
      "Found 15 images belonging to 3 classes.\n",
      "Found 15 images belonging to 3 classes.\n"
     ]
    }
   ],
   "source": [
    "# Train, Validation, and Test Data Generators\n",
    "train_dir = os.path.join(data_dir, 'train')\n",
    "validation_dir = os.path.join(data_dir, 'valid')\n",
    "test_dir = os.path.join(data_dir, 'test')\n",
    "\n",
    "top_3_classes = ['RUFOUS TREPE', 'HOUSE FINCH', 'D-ARNAUDS BARBET'] \n",
    "\n",
    "train_generator = train_datagen.flow_from_directory(\n",
    "    train_dir,\n",
    "    target_size=input_size,\n",
    "    batch_size=batch_size,\n",
    "    class_mode='categorical',\n",
    "    classes=top_3_classes\n",
    ")\n",
    "\n",
    "validation_generator = validation_datagen.flow_from_directory(\n",
    "    validation_dir,\n",
    "    target_size=input_size,\n",
    "    batch_size=batch_size,\n",
    "    class_mode='categorical',\n",
    "    classes=top_3_classes,\n",
    "    shuffle=False\n",
    ")\n",
    "\n",
    "test_datagen = ImageDataGenerator(rescale=1./255)\n",
    "\n",
    "test_generator = test_datagen.flow_from_directory(\n",
    "    test_dir,\n",
    "    target_size=input_size,\n",
    "    batch_size=batch_size,\n",
    "    class_mode='categorical',\n",
    "    classes=top_3_classes,\n",
    "    shuffle=False\n",
    ")"
   ]
  },
  {
   "cell_type": "code",
   "execution_count": 21,
   "metadata": {},
   "outputs": [
    {
     "name": "stderr",
     "output_type": "stream",
     "text": [
      "WARNING:absl:`lr` is deprecated in Keras optimizer, please use `learning_rate` or use the legacy optimizer, e.g.,tf.keras.optimizers.legacy.Adam.\n"
     ]
    },
    {
     "name": "stdout",
     "output_type": "stream",
     "text": [
      "Epoch 1/10\n",
      "24/24 [==============================] - 178s 8s/step - loss: 0.7536 - accuracy: 0.7366 - val_loss: 0.2974 - val_accuracy: 1.0000\n",
      "Epoch 2/10\n",
      "24/24 [==============================] - 195s 8s/step - loss: 0.3785 - accuracy: 0.8925 - val_loss: 0.0948 - val_accuracy: 1.0000\n",
      "Epoch 3/10\n",
      "24/24 [==============================] - 192s 8s/step - loss: 0.2850 - accuracy: 0.9113 - val_loss: 0.0638 - val_accuracy: 1.0000\n",
      "Epoch 4/10\n",
      "24/24 [==============================] - 192s 8s/step - loss: 0.2593 - accuracy: 0.9099 - val_loss: 0.0741 - val_accuracy: 1.0000\n",
      "Epoch 5/10\n",
      "24/24 [==============================] - 169s 7s/step - loss: 0.1901 - accuracy: 0.9395 - val_loss: 0.0282 - val_accuracy: 1.0000\n",
      "Epoch 6/10\n",
      "24/24 [==============================] - 154s 6s/step - loss: 0.1794 - accuracy: 0.9395 - val_loss: 0.0474 - val_accuracy: 1.0000\n",
      "Epoch 7/10\n",
      "24/24 [==============================] - 151s 6s/step - loss: 0.1473 - accuracy: 0.9462 - val_loss: 0.0287 - val_accuracy: 1.0000\n",
      "Epoch 8/10\n",
      "24/24 [==============================] - 149s 6s/step - loss: 0.1441 - accuracy: 0.9556 - val_loss: 0.0221 - val_accuracy: 1.0000\n",
      "Epoch 9/10\n",
      "24/24 [==============================] - 147s 6s/step - loss: 0.1352 - accuracy: 0.9530 - val_loss: 0.0267 - val_accuracy: 1.0000\n",
      "Epoch 10/10\n",
      "24/24 [==============================] - 154s 6s/step - loss: 0.1221 - accuracy: 0.9543 - val_loss: 0.0242 - val_accuracy: 1.0000\n"
     ]
    },
    {
     "data": {
      "text/plain": [
       "<keras.src.callbacks.History at 0x1c50d201c50>"
      ]
     },
     "execution_count": 21,
     "metadata": {},
     "output_type": "execute_result"
    }
   ],
   "source": [
    "# Fine-Tune VGG16\n",
    "num_classes = len(train_generator.class_indices)\n",
    "\n",
    "base_model = VGG16(weights='imagenet', include_top=False, input_shape=(224, 224, 3))\n",
    "\n",
    "x = base_model.output\n",
    "x = GlobalAveragePooling2D()(x)\n",
    "x = Dense(512, activation='relu')(x)\n",
    "predictions = Dense(num_classes, activation='softmax')(x)\n",
    "\n",
    "model = Model(inputs=base_model.input, outputs=predictions)\n",
    "\n",
    "for layer in base_model.layers:\n",
    "    layer.trainable = False\n",
    "\n",
    "optimizer = Adam(lr=0.001)\n",
    "model.compile(optimizer=optimizer, loss='categorical_crossentropy', metrics=['accuracy'])\n",
    "\n",
    "epochs = 10\n",
    "model.fit(train_generator, epochs=epochs, validation_data=validation_generator)"
   ]
  },
  {
   "cell_type": "code",
   "execution_count": 22,
   "metadata": {},
   "outputs": [
    {
     "name": "stdout",
     "output_type": "stream",
     "text": [
      "1/1 [==============================] - 3s 3s/step\n",
      "Accuracy: 1.0\n",
      "Confusion Matrix:\n",
      " [[5 0 0]\n",
      " [0 5 0]\n",
      " [0 0 5]]\n",
      "Classification Report:\n",
      "                   precision    recall  f1-score   support\n",
      "\n",
      "    RUFOUS TREPE       1.00      1.00      1.00         5\n",
      "     HOUSE FINCH       1.00      1.00      1.00         5\n",
      "D-ARNAUDS BARBET       1.00      1.00      1.00         5\n",
      "\n",
      "        accuracy                           1.00        15\n",
      "       macro avg       1.00      1.00      1.00        15\n",
      "    weighted avg       1.00      1.00      1.00        15\n",
      "\n"
     ]
    }
   ],
   "source": [
    "#  Model Performance Evaluation\n",
    "predictions = model.predict(test_generator)\n",
    "y_pred = np.argmax(predictions, axis=1)\n",
    "y_true = test_generator.classes\n",
    "\n",
    "accuracy = np.mean(y_pred == y_true)\n",
    "confusion = confusion_matrix(y_true, y_pred)\n",
    "report = classification_report(y_true, y_pred, target_names=top_3_classes)\n",
    "\n",
    "print(\"Accuracy:\", accuracy)\n",
    "print(\"Confusion Matrix:\\n\", confusion)\n",
    "print(\"Classification Report:\\n\", report)"
   ]
  },
  {
   "cell_type": "code",
   "execution_count": 23,
   "metadata": {},
   "outputs": [],
   "source": [
    "# Step 8: Analyze Model Failures\n",
    "misclassified_indices = np.where(y_pred != y_true)[0]\n",
    "\n",
    "for idx in misclassified_indices:\n",
    "    image_path = test_generator.filepaths[idx]\n",
    "    true_label = top_3_classes[y_true[idx]]\n",
    "    predicted_label = top_3_classes[y_pred[idx]]\n",
    "\n",
    "    img = load_img(image_path, target_size=input_size)\n",
    "    img_array = img_to_array(img)\n",
    "    plt.imshow(img_array / 255.0)\n",
    "    plt.title(f'True Label: {true_label}, Predicted Label: {predicted_label}')\n",
    "    plt.axis('off')\n",
    "    plt.show()"
   ]
  },
  {
   "cell_type": "code",
   "execution_count": 24,
   "metadata": {},
   "outputs": [
    {
     "name": "stdout",
     "output_type": "stream",
     "text": [
      "Epoch 1/10\n",
      "24/24 [==============================] - 163s 7s/step - loss: 0.1202 - accuracy: 0.9570 - val_loss: 0.0628 - val_accuracy: 1.0000\n",
      "Epoch 2/10\n",
      "24/24 [==============================] - 385s 16s/step - loss: 0.1162 - accuracy: 0.9651 - val_loss: 0.0217 - val_accuracy: 1.0000\n",
      "Epoch 3/10\n",
      "24/24 [==============================] - 169s 7s/step - loss: 0.1433 - accuracy: 0.9516 - val_loss: 0.0076 - val_accuracy: 1.0000\n",
      "Epoch 4/10\n",
      "24/24 [==============================] - 163s 7s/step - loss: 0.1036 - accuracy: 0.9664 - val_loss: 0.0254 - val_accuracy: 1.0000\n",
      "Epoch 5/10\n",
      "24/24 [==============================] - 152s 7s/step - loss: 0.1080 - accuracy: 0.9704 - val_loss: 0.0326 - val_accuracy: 1.0000\n",
      "Epoch 6/10\n",
      "24/24 [==============================] - 150s 6s/step - loss: 0.0958 - accuracy: 0.9691 - val_loss: 0.0435 - val_accuracy: 1.0000\n",
      "Epoch 7/10\n",
      "24/24 [==============================] - 719s 31s/step - loss: 0.0833 - accuracy: 0.9691 - val_loss: 0.0084 - val_accuracy: 1.0000\n",
      "Epoch 8/10\n",
      "24/24 [==============================] - 10248s 445s/step - loss: 0.0861 - accuracy: 0.9664 - val_loss: 0.0342 - val_accuracy: 1.0000\n",
      "Epoch 9/10\n",
      "24/24 [==============================] - 141s 6s/step - loss: 0.0723 - accuracy: 0.9785 - val_loss: 0.0218 - val_accuracy: 1.0000\n",
      "Epoch 10/10\n",
      "24/24 [==============================] - 146s 6s/step - loss: 0.0761 - accuracy: 0.9758 - val_loss: 0.0246 - val_accuracy: 1.0000\n"
     ]
    }
   ],
   "source": [
    "history = model.fit(\n",
    "    train_generator,\n",
    "    epochs=10,\n",
    "    validation_data=validation_generator\n",
    ")"
   ]
  },
  {
   "cell_type": "code",
   "execution_count": 25,
   "metadata": {},
   "outputs": [
    {
     "data": {
      "image/png": "[encoded data removed]",
      "text/plain": [
       "<Figure size 640x480 with 1 Axes>"
      ]
     },
     "metadata": {},
     "output_type": "display_data"
    },
    {
     "data": {
      "image/png": "[encoded data removed]",
      "text/plain": [
       "<Figure size 640x480 with 1 Axes>"
      ]
     },
     "metadata": {},
     "output_type": "display_data"
    }
   ],
   "source": [
    "# Accuracy for training and validation\n",
    "acc = history.history[\"accuracy\"]\n",
    "val_acc = history.history[\"val_accuracy\"]\n",
    "loss = history.history[\"loss\"]\n",
    "val_loss = history.history[\"val_loss\"]\n",
    "epochs = range(1, len(acc) + 1)\n",
    "plt.plot(epochs, acc, \"bo\", label=\"Training accuracy\")\n",
    "plt.plot(epochs, val_acc, \"b\", label=\"Validation accuracy\")\n",
    "plt.title(\"Training and validation accuracy\")\n",
    "plt.legend()\n",
    "plt.figure()\n",
    "plt.plot(epochs, loss, \"bo\", label=\"Training loss\")\n",
    "plt.plot(epochs, val_loss, \"b\", label=\"Validation loss\")\n",
    "plt.title(\"Training and validation loss\")\n",
    "plt.legend()\n",
    "plt.show()"
   ]
  }
 ],
 "metadata": {
  "kernelspec": {
   "display_name": "CSCN8010_classic_ml",
   "language": "python",
   "name": "python3"
  },
  "language_info": {
   "codemirror_mode": {
    "name": "ipython",
    "version": 3
   },
   "file_extension": ".py",
   "mimetype": "text/x-python",
   "name": "python",
   "nbconvert_exporter": "python",
   "pygments_lexer": "ipython3",
   "version": "3.11.3"
  },
  "orig_nbformat": 4
 },
 "nbformat": 4,
 "nbformat_minor": 2
}
